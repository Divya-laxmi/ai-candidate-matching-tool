{
 "cells": [
  {
   "cell_type": "code",
   "execution_count": 1,
   "id": "01b14500-bafc-4a2f-a561-b2c79e0409f5",
   "metadata": {},
   "outputs": [
    {
     "name": "stdout",
     "output_type": "stream",
     "text": [
      "Requirement already satisfied: pandas in /opt/anaconda3/lib/python3.12/site-packages (2.2.2)\n",
      "Requirement already satisfied: scikit-learn in /opt/anaconda3/lib/python3.12/site-packages (1.5.1)\n",
      "Requirement already satisfied: nltk in /opt/anaconda3/lib/python3.12/site-packages (3.8.1)\n",
      "Requirement already satisfied: numpy>=1.26.0 in /opt/anaconda3/lib/python3.12/site-packages (from pandas) (1.26.0)\n",
      "Requirement already satisfied: python-dateutil>=2.8.2 in /opt/anaconda3/lib/python3.12/site-packages (from pandas) (2.9.0.post0)\n",
      "Requirement already satisfied: pytz>=2020.1 in /opt/anaconda3/lib/python3.12/site-packages (from pandas) (2024.2)\n",
      "Requirement already satisfied: tzdata>=2022.7 in /opt/anaconda3/lib/python3.12/site-packages (from pandas) (2024.2)\n",
      "Requirement already satisfied: scipy>=1.6.0 in /opt/anaconda3/lib/python3.12/site-packages (from scikit-learn) (1.13.1)\n",
      "Requirement already satisfied: joblib>=1.2.0 in /opt/anaconda3/lib/python3.12/site-packages (from scikit-learn) (1.4.2)\n",
      "Requirement already satisfied: threadpoolctl>=3.1.0 in /opt/anaconda3/lib/python3.12/site-packages (from scikit-learn) (3.5.0)\n",
      "Requirement already satisfied: click in /opt/anaconda3/lib/python3.12/site-packages (from nltk) (8.1.7)\n",
      "Requirement already satisfied: regex>=2021.8.3 in /opt/anaconda3/lib/python3.12/site-packages (from nltk) (2023.10.3)\n",
      "Requirement already satisfied: tqdm in /opt/anaconda3/lib/python3.12/site-packages (from nltk) (4.66.4)\n",
      "Requirement already satisfied: six>=1.5 in /opt/anaconda3/lib/python3.12/site-packages (from python-dateutil>=2.8.2->pandas) (1.16.0)\n",
      "\n",
      "\u001b[1m[\u001b[0m\u001b[34;49mnotice\u001b[0m\u001b[1;39;49m]\u001b[0m\u001b[39;49m A new release of pip is available: \u001b[0m\u001b[31;49m24.2\u001b[0m\u001b[39;49m -> \u001b[0m\u001b[32;49m25.1.1\u001b[0m\n",
      "\u001b[1m[\u001b[0m\u001b[34;49mnotice\u001b[0m\u001b[1;39;49m]\u001b[0m\u001b[39;49m To update, run: \u001b[0m\u001b[32;49mpip install --upgrade pip\u001b[0m\n"
     ]
    }
   ],
   "source": [
    "!pip install pandas scikit-learn nltk"
   ]
  },
  {
   "cell_type": "markdown",
   "id": "90cfa3ca-1949-40c7-bda6-4968fc2f8251",
   "metadata": {},
   "source": [
    "Step 2: Import Libraries"
   ]
  },
  {
   "cell_type": "code",
   "execution_count": 3,
   "id": "f70c7810-0f41-48e6-9dc4-238682ab8289",
   "metadata": {},
   "outputs": [
    {
     "name": "stderr",
     "output_type": "stream",
     "text": [
      "[nltk_data] Downloading package punkt to /Users/divya/nltk_data...\n",
      "[nltk_data]   Package punkt is already up-to-date!\n"
     ]
    },
    {
     "data": {
      "text/plain": [
       "True"
      ]
     },
     "execution_count": 3,
     "metadata": {},
     "output_type": "execute_result"
    }
   ],
   "source": [
    "import pandas as pd\n",
    "import numpy as np\n",
    "from sklearn.feature_extraction.text import TfidfVectorizer\n",
    "from sklearn.metrics.pairwise import cosine_similarity\n",
    "import nltk\n",
    "nltk.download('punkt')"
   ]
  },
  {
   "cell_type": "markdown",
   "id": "bdeaf491-3fb1-4d6c-b87c-69709025b121",
   "metadata": {},
   "source": [
    "Step 3: Input Data\n",
    "For simplicity, let’s assume you're comparing one job description vs multiple resumes."
   ]
  },
  {
   "cell_type": "code",
   "execution_count": 5,
   "id": "86dae12b-b609-4300-8d9b-1362189194e6",
   "metadata": {},
   "outputs": [],
   "source": [
    "# Sample job description\n",
    "job_description = \"\"\"\n",
    "We are seeking a Python Developer with experience in data analysis, machine learning, and Flask development.\n",
    "The candidate should have strong skills in Pandas, NumPy, and SQL.\n",
    "\"\"\"\n",
    "\n",
    "# Sample resumes\n",
    "resumes = {\n",
    "    \"Resume_1\": \"Experienced Python developer skilled in Flask, SQL, and data pipelines.\",\n",
    "    \"Resume_2\": \"Expert in JavaScript and React, with knowledge of HTML and CSS.\",\n",
    "    \"Resume_3\": \"Skilled in machine learning, Pandas, and statistical analysis using Python.\"\n",
    "}\n",
    "\n",
    "df = pd.DataFrame(resumes.items(), columns=['Candidate', 'Resume_Text'])\n"
   ]
  },
  {
   "cell_type": "markdown",
   "id": "d6733b1b-65cf-4c3f-b061-f88247a65cbd",
   "metadata": {},
   "source": [
    " Step 4: TF-IDF Vectorization and Similarity Score"
   ]
  },
  {
   "cell_type": "code",
   "execution_count": 7,
   "id": "09a70a05-e552-445e-9154-54242a6ae24a",
   "metadata": {},
   "outputs": [
    {
     "data": {
      "text/html": [
       "<div>\n",
       "<style scoped>\n",
       "    .dataframe tbody tr th:only-of-type {\n",
       "        vertical-align: middle;\n",
       "    }\n",
       "\n",
       "    .dataframe tbody tr th {\n",
       "        vertical-align: top;\n",
       "    }\n",
       "\n",
       "    .dataframe thead th {\n",
       "        text-align: right;\n",
       "    }\n",
       "</style>\n",
       "<table border=\"1\" class=\"dataframe\">\n",
       "  <thead>\n",
       "    <tr style=\"text-align: right;\">\n",
       "      <th></th>\n",
       "      <th>Candidate</th>\n",
       "      <th>Resume_Text</th>\n",
       "      <th>Match_Score (%)</th>\n",
       "    </tr>\n",
       "  </thead>\n",
       "  <tbody>\n",
       "    <tr>\n",
       "      <th>0</th>\n",
       "      <td>Resume_1</td>\n",
       "      <td>Experienced Python developer skilled in Flask,...</td>\n",
       "      <td>35.02</td>\n",
       "    </tr>\n",
       "    <tr>\n",
       "      <th>2</th>\n",
       "      <td>Resume_3</td>\n",
       "      <td>Skilled in machine learning, Pandas, and stati...</td>\n",
       "      <td>35.02</td>\n",
       "    </tr>\n",
       "    <tr>\n",
       "      <th>1</th>\n",
       "      <td>Resume_2</td>\n",
       "      <td>Expert in JavaScript and React, with knowledge...</td>\n",
       "      <td>0.00</td>\n",
       "    </tr>\n",
       "  </tbody>\n",
       "</table>\n",
       "</div>"
      ],
      "text/plain": [
       "  Candidate                                        Resume_Text  \\\n",
       "0  Resume_1  Experienced Python developer skilled in Flask,...   \n",
       "2  Resume_3  Skilled in machine learning, Pandas, and stati...   \n",
       "1  Resume_2  Expert in JavaScript and React, with knowledge...   \n",
       "\n",
       "   Match_Score (%)  \n",
       "0            35.02  \n",
       "2            35.02  \n",
       "1             0.00  "
      ]
     },
     "execution_count": 7,
     "metadata": {},
     "output_type": "execute_result"
    }
   ],
   "source": [
    "# Combine job description and resumes for vectorization\n",
    "documents = [job_description] + df['Resume_Text'].tolist()\n",
    "\n",
    "# Vectorize\n",
    "vectorizer = TfidfVectorizer(stop_words='english')\n",
    "tfidf_matrix = vectorizer.fit_transform(documents)\n",
    "\n",
    "# Compute cosine similarity (between job desc and each resume)\n",
    "cosine_sim = cosine_similarity(tfidf_matrix[0:1], tfidf_matrix[1:]).flatten()\n",
    "\n",
    "# Attach scores to dataframe\n",
    "df['Match_Score (%)'] = np.round(cosine_sim * 100, 2)\n",
    "\n",
    "# Sort by best match\n",
    "df = df.sort_values(by='Match_Score (%)', ascending=False)\n",
    "df\n"
   ]
  },
  {
   "cell_type": "markdown",
   "id": "5f91813a-cbf2-4160-bdb1-8419913cc537",
   "metadata": {},
   "source": [
    " Step 5: Export or Display Results"
   ]
  },
  {
   "cell_type": "code",
   "execution_count": 9,
   "id": "3701eb0e-57f3-434c-9685-3905cb15a9b9",
   "metadata": {},
   "outputs": [
    {
     "name": "stdout",
     "output_type": "stream",
     "text": [
      "Top Matching Resume:\n",
      "Candidate                                                   Resume_1\n",
      "Resume_Text        Experienced Python developer skilled in Flask,...\n",
      "Match_Score (%)                                                35.02\n",
      "Name: 0, dtype: object\n"
     ]
    }
   ],
   "source": [
    "# Save as CSV (optional)\n",
    "df.to_csv(\"resume_match_scores.csv\", index=False)\n",
    "\n",
    "# Or display top match\n",
    "print(\"Top Matching Resume:\")\n",
    "print(df.iloc[0])\n"
   ]
  },
  {
   "cell_type": "markdown",
   "id": "25dd3bbd-b33a-483f-ad23-f8b6ae81c245",
   "metadata": {},
   "source": [
    "Step 6: Add Summary Output Table"
   ]
  },
  {
   "cell_type": "code",
   "execution_count": 11,
   "id": "ffe5ef2d-3f59-46ac-b56c-0bba2c84ded5",
   "metadata": {},
   "outputs": [
    {
     "name": "stdout",
     "output_type": "stream",
     "text": [
      "All Candidate Match Scores:\n",
      "  Candidate  Match_Score (%)\n",
      "0  Resume_1            35.02\n",
      "2  Resume_3            35.02\n",
      "1  Resume_2             0.00\n"
     ]
    }
   ],
   "source": [
    "print(\"All Candidate Match Scores:\")\n",
    "print(df[['Candidate', 'Match_Score (%)']])\n"
   ]
  },
  {
   "cell_type": "markdown",
   "id": "9062b86d-9baa-4852-ae6c-3fdb6598b284",
   "metadata": {},
   "source": [
    "Step 7: Wrap in Functions (Optional but Cleaner)"
   ]
  },
  {
   "cell_type": "code",
   "execution_count": 13,
   "id": "aca65158-31e4-44e2-82d4-64313158ee29",
   "metadata": {},
   "outputs": [],
   "source": [
    "def match_resumes(job_desc, resumes_dict):\n",
    "    import pandas as pd\n",
    "    from sklearn.feature_extraction.text import TfidfVectorizer\n",
    "    from sklearn.metrics.pairwise import cosine_similarity\n",
    "\n",
    "    # Create DataFrame from resumes\n",
    "    df = pd.DataFrame(resumes_dict.items(), columns=['Candidate', 'Resume_Text'])\n",
    "\n",
    "    # Combine documents\n",
    "    documents = [job_desc] + df['Resume_Text'].tolist()\n",
    "\n",
    "    # Vectorize the text\n",
    "    vectorizer = TfidfVectorizer(stop_words='english')\n",
    "    tfidf_matrix = vectorizer.fit_transform(documents)\n",
    "\n",
    "    # Calculate cosine similarity between job and resumes\n",
    "    cosine_sim = cosine_similarity(tfidf_matrix[0:1], tfidf_matrix[1:]).flatten()\n",
    "\n",
    "    # Add match score to dataframe\n",
    "    df['Match_Score (%)'] = (cosine_sim * 100).round(2)\n",
    "\n",
    "    # Return sorted DataFrame\n",
    "    return df.sort_values(by='Match_Score (%)', ascending=False)\n"
   ]
  },
  {
   "cell_type": "code",
   "execution_count": 14,
   "id": "c83dfce9-b96e-45bc-b09e-12a117423bb7",
   "metadata": {},
   "outputs": [
    {
     "name": "stdout",
     "output_type": "stream",
     "text": [
      "  Candidate                                        Resume_Text  \\\n",
      "0  Resume_1  Experienced Python developer skilled in Flask,...   \n",
      "2  Resume_3  Skilled in machine learning, Pandas, and stati...   \n",
      "1  Resume_2  Expert in JavaScript and React, with knowledge...   \n",
      "\n",
      "   Match_Score (%)  \n",
      "0            35.02  \n",
      "2            35.02  \n",
      "1             0.00  \n"
     ]
    }
   ],
   "source": [
    "results = match_resumes(job_description, resumes)\n",
    "print(results)\n"
   ]
  },
  {
   "cell_type": "code",
   "execution_count": null,
   "id": "8bf4f871-e1ba-4ee4-97ca-e94391455c60",
   "metadata": {},
   "outputs": [],
   "source": []
  }
 ],
 "metadata": {
  "kernelspec": {
   "display_name": "Python 3 (ipykernel)",
   "language": "python",
   "name": "python3"
  },
  "language_info": {
   "codemirror_mode": {
    "name": "ipython",
    "version": 3
   },
   "file_extension": ".py",
   "mimetype": "text/x-python",
   "name": "python",
   "nbconvert_exporter": "python",
   "pygments_lexer": "ipython3",
   "version": "3.12.4"
  }
 },
 "nbformat": 4,
 "nbformat_minor": 5
}
